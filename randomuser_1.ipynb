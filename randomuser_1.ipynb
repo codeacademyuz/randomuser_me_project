{
 "cells": [
  {
   "attachments": {},
   "cell_type": "markdown",
   "metadata": {},
   "source": [
    "# Assignment: Exploring JSON Data with randomuser.me"
   ]
  },
  {
   "attachments": {},
   "cell_type": "markdown",
   "metadata": {},
   "source": [
    "## Introduction\n",
    "This assignment is designed to help you get familiar with JSON data and how to work with it in Python. We will be using the [randomuser.me](https://randomuser.me/) API to generate random user data. "
   ]
  },
  {
   "attachments": {},
   "cell_type": "markdown",
   "metadata": {},
   "source": [
    "## Objectives\n",
    "\n",
    "The main objectives of this assignment are to:\n",
    "\n",
    "1. Learn how to use the randomuser.me API to generate random user data.\n",
    "\n",
    "2. Learn how to read JSON data into Python.\n",
    "\n",
    "3. Learn how to use Python to analyze JSON data."
   ]
  },
  {
   "attachments": {},
   "cell_type": "markdown",
   "metadata": {},
   "source": [
    "## Assigment 1:\n",
    "Define a function called `get_data` takes a single argument `path` which is a string representing the path to a file. The function should return a Python object representing the data in the file. The function should be able to handle any file that contains JSON data."
   ]
  },
  {
   "cell_type": "code",
   "execution_count": 1,
   "metadata": {},
   "outputs": [],
   "source": [
    "def get_data(path: str) -> dict:\n",
    "    \"\"\"Get data from a file.\"\"\"\n",
    "    data = {}\n",
    "    return data\n",
    "\n",
    "PATH = \"randomuser.json\""
   ]
  },
  {
   "attachments": {},
   "cell_type": "markdown",
   "metadata": {},
   "source": [
    "## Assignment 2:\n",
    "Define a function called `get_user_name` that takes a single argument `data` which is a Python object representing the data returned from the randomuser.me API. The function should return a string containing the first and last name of the user."
   ]
  },
  {
   "cell_type": "code",
   "execution_count": 2,
   "metadata": {},
   "outputs": [],
   "source": [
    "def get_user_name(data: dict) -> tuple:\n",
    "    \"\"\"\n",
    "    Get user name from data.\n",
    "\n",
    "    Args:\n",
    "        data: data from file\n",
    "    Returns:\n",
    "        tuple: first name and last name\n",
    "    \"\"\"\n",
    "    first_name = \"\"\n",
    "    last_name = \"\"\n",
    "    return first_name, last_name\n",
    "    "
   ]
  },
  {
   "attachments": {},
   "cell_type": "markdown",
   "metadata": {},
   "source": [
    "## Assignment 3:\n",
    "\n",
    "Define a function called `get_address` that takes a single argument `data` which is a Python object representing the data returned from the randomuser.me API. The function should return a string containing the street, city, state, and zip code of the user in the following format:\n",
    "\n",
    "```\n",
    "Country, State, City, Street, Zip Code\n",
    "```"
   ]
  },
  {
   "cell_type": "code",
   "execution_count": 3,
   "metadata": {},
   "outputs": [],
   "source": [
    "def get_address(data: dict) -> str:\n",
    "    \"\"\"\n",
    "    Get address from data.\n",
    "\n",
    "    Args:\n",
    "        data: data from file\n",
    "    Returns:\n",
    "        str: address\n",
    "    \"\"\"\n",
    "    address = \"\"\n",
    "    return address"
   ]
  },
  {
   "attachments": {},
   "cell_type": "markdown",
   "metadata": {},
   "source": [
    "## Assignment 4:\n",
    "Define a function called `get_birthday` that takes a single argument `data` which is a Python object representing the data returned from the randomuser.me API. The function should return a string containing the user's birthday in the following format:\n",
    "\n",
    "```\n",
    "Month Day, Year\n",
    "```"
   ]
  },
  {
   "cell_type": "code",
   "execution_count": 4,
   "metadata": {},
   "outputs": [],
   "source": [
    "def get_birthday(data: dict) -> str:\n",
    "    \"\"\"\n",
    "    Get birthday from data.\n",
    "\n",
    "    Args:\n",
    "        data: data from file\n",
    "    Returns:\n",
    "        str: birthday\n",
    "    \"\"\"\n",
    "    birthday = \"\"\n",
    "    return birthday"
   ]
  },
  {
   "attachments": {},
   "cell_type": "markdown",
   "metadata": {},
   "source": [
    "## Assignment 5:\n",
    "Define a function called `get_email` that takes a single argument `data` which is a Python object representing the data returned from the randomuser.me API. The function should return a string containing the user's email address.\n"
   ]
  },
  {
   "cell_type": "code",
   "execution_count": 5,
   "metadata": {},
   "outputs": [],
   "source": [
    "def get_email(data: dict) -> str:\n",
    "    \"\"\"\n",
    "    Get email from data.\n",
    "\n",
    "    Args:\n",
    "        data: data from file\n",
    "    Returns:\n",
    "        str: email\n",
    "    \"\"\""
   ]
  },
  {
   "attachments": {},
   "cell_type": "markdown",
   "metadata": {},
   "source": [
    "## Assignment 6:\n",
    "Define a function called `get_username` that takes a single argument `data` which is a Python object representing the data returned from the randomuser.me API. The function should return a string containing the user's username."
   ]
  },
  {
   "cell_type": "code",
   "execution_count": 6,
   "metadata": {},
   "outputs": [],
   "source": [
    "def get_username(data: dict) -> str:\n",
    "    \"\"\"\n",
    "    Get username from data.\n",
    "\n",
    "    Args:\n",
    "        data: data from file\n",
    "    Returns:\n",
    "        str: username\n",
    "    \"\"\""
   ]
  },
  {
   "cell_type": "code",
   "execution_count": null,
   "metadata": {},
   "outputs": [],
   "source": []
  }
 ],
 "metadata": {
  "kernelspec": {
   "display_name": "Python 3",
   "language": "python",
   "name": "python3"
  },
  "language_info": {
   "codemirror_mode": {
    "name": "ipython",
    "version": 3
   },
   "file_extension": ".py",
   "mimetype": "text/x-python",
   "name": "python",
   "nbconvert_exporter": "python",
   "pygments_lexer": "ipython3",
   "version": "3.9.6"
  },
  "orig_nbformat": 4
 },
 "nbformat": 4,
 "nbformat_minor": 2
}
