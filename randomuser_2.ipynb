{
 "cells": [
  {
   "attachments": {},
   "cell_type": "markdown",
   "metadata": {},
   "source": [
    "# Assignment: Analyzing JSON Data with randomuser.me\n",
    "\n",
    "## Introduction\n",
    "This assignment is designed to help you get familiar with JSON data and how to work with it in Python. We will be using the [randomuser.me](https://randomuser.me/) API to generate random user data."
   ]
  },
  {
   "attachments": {},
   "cell_type": "markdown",
   "metadata": {},
   "source": [
    "## Objectives\n",
    "\n",
    "The main objectives of this assignment are to:\n",
    "\n",
    "1. Learn how to use the randomuser.me API to generate random user data.\n",
    "2. Learn how to filter JSON data using Python.\n",
    "3. Learn how to use Python to analyze JSON data."
   ]
  },
  {
   "cell_type": "code",
   "execution_count": null,
   "metadata": {},
   "outputs": [],
   "source": [
    "!wget https://raw.githubusercontent.com/codeacademyuz/randomuser_me_project/main/randomusers.json"
   ]
  },
  {
   "cell_type": "code",
   "execution_count": 1,
   "metadata": {},
   "outputs": [],
   "source": [
    "import json\n",
    "def get_data(path: str) -> dict:\n",
    "    \"\"\"Get data from a file.\"\"\"\n",
    "    with open(path, \"r\") as f:\n",
    "        data = json.load(f)\n",
    "\n",
    "    return data\n",
    "\n",
    "PATH = \"randomusers.json\"\n",
    "data = get_data(PATH)"
   ]
  },
  {
   "attachments": {},
   "cell_type": "markdown",
   "metadata": {},
   "source": [
    "## Assignment 1:\n",
    "\n",
    "Define a function called `get_count_of_users` that takes in a parameter called `data` and returns the number of users in the data."
   ]
  },
  {
   "cell_type": "code",
   "execution_count": 2,
   "metadata": {},
   "outputs": [],
   "source": [
    "def get_count_of_users(data: dict) -> int:\n",
    "    \"\"\"\n",
    "    Get count of users.\n",
    "\n",
    "    Args:\n",
    "        data: dictionary with data.\n",
    "    returns:\n",
    "        count of users.\n",
    "    \"\"\"\n",
    "    count = len(data[\"results\"])\n",
    "\n",
    "    return count\n",
    "\n",
    "assert get_count_of_users(data) == 111"
   ]
  },
  {
   "attachments": {},
   "cell_type": "markdown",
   "metadata": {},
   "source": [
    "## Assignment 2:\n",
    "Define a function called `get_users_country` that takes in a parameter called `data` and returns a list of all the countries in the data."
   ]
  },
  {
   "cell_type": "code",
   "execution_count": 6,
   "metadata": {},
   "outputs": [
    {
     "name": "stdout",
     "output_type": "stream",
     "text": [
      "['Australia', 'Spain', 'Ireland', 'United States', 'Germany', 'Netherlands', 'Norway', 'Mexico', 'New Zealand', 'United Kingdom', 'Finland', 'Ukraine', 'Brazil', 'Turkey', 'Iran', 'Denmark', 'Serbia', 'France', 'India', 'Switzerland', 'Canada']\n"
     ]
    }
   ],
   "source": [
    "def get_users_country(data: dict) -> list:\n",
    "    \"\"\"\n",
    "    Get users country.\n",
    "\n",
    "    Args:\n",
    "        data: dictionary with data.\n",
    "    returns:\n",
    "        list of users country.\n",
    "    \"\"\"\n",
    "    countries = []\n",
    "    results = data[\"results\"]\n",
    "    for usr in results:\n",
    "        if usr[\"location\"][\"country\"] not in countries:\n",
    "            countries.append(usr[\"location\"][\"country\"])\n",
    "    \n",
    "    return countries\n",
    "print(get_users_country(data))\n",
    "# assert get_users_country(data) == []"
   ]
  },
  {
   "attachments": {},
   "cell_type": "markdown",
   "metadata": {},
   "source": [
    "## Assignment 3\n",
    "Define a function called `filter_users_by_country` that takes in two parameters: `data` and `country` and returns a list of all the users from that country."
   ]
  },
  {
   "cell_type": "code",
   "execution_count": 13,
   "metadata": {},
   "outputs": [
    {
     "name": "stdout",
     "output_type": "stream",
     "text": [
      "0\n"
     ]
    }
   ],
   "source": [
    "def filter_users_by_country(data: dict, country: str) -> list:\n",
    "    \"\"\"\n",
    "    Filter users by country.\n",
    "\n",
    "    Args:\n",
    "        data: dictionary with data.\n",
    "        country: country name.\n",
    "    returns:\n",
    "        list of users from country.\n",
    "    \"\"\"\n",
    "    users = []\n",
    "    results = data[\"results\"]\n",
    "    for usr in results:\n",
    "        if usr[\"location\"][\"country\"] == country:\n",
    "            users.append(usr)\n",
    "    return users\n",
    "\n",
    "print(len(filter_users_by_country(data, \"Uzbekistan\")))"
   ]
  },
  {
   "attachments": {},
   "cell_type": "markdown",
   "metadata": {},
   "source": [
    "## Assignment 4\n",
    "\n",
    "Define a function called `count_users_by_gender` that takes in two parameters: data and gender and return number of users."
   ]
  },
  {
   "cell_type": "code",
   "execution_count": 7,
   "metadata": {},
   "outputs": [],
   "source": [
    "def count_users_by_gender(data:dict,gender:str)->int:\n",
    "    \"\"\"\n",
    "    Count number of users by gender.\n",
    "    Args:\n",
    "        data: dictionary with data.\n",
    "        gender: gender.\n",
    "    returns:\n",
    "        number.\n",
    "    \"\"\"\n",
    "    count = 0\n",
    "    return count\n"
   ]
  },
  {
   "attachments": {},
   "cell_type": "markdown",
   "metadata": {},
   "source": [
    "## Assignment 5\n",
    "\n",
    "Define a function called `get_oldest_user` that takes in a parameter called `data` and returns the oldest user in the data."
   ]
  },
  {
   "cell_type": "code",
   "execution_count": 1,
   "metadata": {},
   "outputs": [],
   "source": [
    "def get_oldest_user(data: dict) -> dict:\n",
    "    \"\"\"\n",
    "    Get oldest user.\n",
    "\n",
    "    Args:\n",
    "        data: dictionary with data.\n",
    "    returns:\n",
    "        oldest user.\n",
    "    \"\"\"\n",
    "    oldest_user = {}\n",
    "    return oldest_user"
   ]
  },
  {
   "attachments": {},
   "cell_type": "markdown",
   "metadata": {},
   "source": [
    "## Assignment 6\n",
    "Define a function called `filter_users_by_age_range` that takes in three parameters: `data`, `min_age`, and `max_age` and returns a list of all the users whose age is between `min_age` and `max_age`."
   ]
  },
  {
   "cell_type": "code",
   "execution_count": 2,
   "metadata": {},
   "outputs": [],
   "source": [
    "def filter_users_by_age_range(data: dict, age_range: tuple) -> list:\n",
    "    \"\"\"\n",
    "    Filter users by age range.\n",
    "\n",
    "    Args:\n",
    "        data: dictionary with data.\n",
    "        age_range: age range.\n",
    "    returns:\n",
    "        list of users from age range.\n",
    "    \"\"\"\n",
    "    users = []\n",
    "    return users"
   ]
  }
 ],
 "metadata": {
  "kernelspec": {
   "display_name": "Python 3",
   "language": "python",
   "name": "python3"
  },
  "language_info": {
   "codemirror_mode": {
    "name": "ipython",
    "version": 3
   },
   "file_extension": ".py",
   "mimetype": "text/x-python",
   "name": "python",
   "nbconvert_exporter": "python",
   "pygments_lexer": "ipython3",
   "version": "3.9.6"
  },
  "orig_nbformat": 4
 },
 "nbformat": 4,
 "nbformat_minor": 2
}
